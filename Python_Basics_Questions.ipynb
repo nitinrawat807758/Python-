{
  "nbformat": 4,
  "nbformat_minor": 0,
  "metadata": {
    "colab": {
      "provenance": []
    },
    "kernelspec": {
      "name": "python3",
      "display_name": "Python 3"
    },
    "language_info": {
      "name": "python"
    }
  },
  "cells": [
    {
      "cell_type": "code",
      "source": [],
      "metadata": {
        "id": "_Daa7PkINZ5X"
      },
      "execution_count": 2,
      "outputs": []
    },
    {
      "cell_type": "markdown",
      "source": [],
      "metadata": {
        "id": "xHy3FYVtNZGU"
      }
    },
    {
      "cell_type": "markdown",
      "source": [
        "#Python Basics Questions"
      ],
      "metadata": {
        "id": "nJqJL5x1L8L1"
      }
    },
    {
      "cell_type": "markdown",
      "source": [
        "\n",
        "\n",
        "1.   What is Python, and why is it popular?\n",
        "\n",
        "     * python is programming language that is known for its for its clear, easy of learing and also for it s active community python was first founded in the year 1991 and it is widely used for web development, data science, automation, machine learning etc\n",
        "* Reasons why is it popular ?\n",
        "\n",
        "     * Easy of learing\n",
        "     * Versatile\n",
        "     * Huge number of libraries (137000) ex numpy, pandas\n",
        "     * a large Community Support\n",
        "2.   What is an interpreter in Python ?\n",
        "\n",
        "     * an interpreter is a program that excutes a code line by line in python the interpreter reads a source of code and translates into machine learning language this allows easier debbuing and interactive devlopment\n",
        "\n",
        "3. What are pre-defined keywords in Python?\n",
        "     * pre defined keywordws are reserved for special meaning in python that are used to define the syntax and structure of python examples : if , for,while, def,class,true and none\n",
        "4. Can keywords be used as variable names?\n",
        "\n",
        "    * No key words cannot be used as variable names in python doing so it may leads to get an syntax error because keywords are reserved for a specfic language functionality\n",
        "5. What is mutability in Python?\n",
        "\n",
        "    * mutabilty refers to the objects can be changeable (modified)\n",
        "      mutable ojects such as list and dictonaries can be modified after creation while immutable objects such as tuples and strings cannot be modified\n",
        "6. Why are lists mutable, but tuples are immutable?\n",
        "\n",
        "    * Lists in Python are mutable, meaning you can change their contents (add,  remove, or modify elements) after creation. Tuples are immutable, meaning once they’re created, their contents cannot be changed. Lists are designed for data that may need updates, while tuples are for fixed data to ensure data integrity and allow faster processing.\n",
        "7. What is the difference between “==” and “is” operators in Python?\n",
        "\n",
        "  * == checks for two value equality meaning its checks the two varibles have the same content is checks for identify meaning whether two varibles refers to the same object in the memory\n",
        "8. What are logical operators in Python?\n",
        "\n",
        " * logical operators are used to combine the conditonal expression :-\n",
        "\n",
        " * and : true if combinations condtions are true\n",
        "\n",
        " * or : true if at least one condtions are true\n",
        "\n",
        " * not : reverses for logical value\n",
        "\n",
        "9. What is type casting in Python?\n",
        "\n",
        "   * Type casting is a process of converting a value from one data type to another, such as from string to integer or float using fuction like int(),float(), and str().   \n",
        "\n",
        "10. What is the difference between implicit and explicit type casting?\n",
        "\n",
        "  * implicit casting is done by python automatically whenever its needed (ex int to float )\n",
        "\n",
        "  * explicit casting is done manually by programmer using a casting function (ex int(\"5\"),float(\"2.3\"))\n",
        "\n",
        "11. What is the purpose of conditional statements in Python?\n",
        "\n",
        "  * Conditional statements in Python allow you to control the flow of your program based on certain conditions. They let you make decisions by executing different code blocks depending on whether a condition is True or False. This makes programs more dynamic and interactive.\n",
        "\n",
        " 12. How does the elif statement work?\n",
        "\n",
        " * The elif (short for \"else if\") statement allows you to checking the multiple conditions after the intial if. Only first true condtion block is excuted.\n",
        "\n",
        "13. What is the difference between for and while loops?\n",
        "\n",
        " * for loops : lterates over a sequences (like a list or range ) for a fixed number of times.\n",
        " * while loops : repeats as long as a specified condition is true and making it better for indefinite loops.\n",
        "\n",
        "14. Describe a scenario where a while loop is more suitable than a for loop.\n",
        "\n",
        " * A while loop is more suitable than a for loop when the number of iterations is unknown or depends on a condition that might change during execution. For example, reading user input until they enter \"exit\" is best done with a while loop because you don't know how many times the user will enter data.\n",
        "\n",
        "\n",
        "\n",
        "\n",
        "\n",
        "\n",
        "\n",
        "\n"
      ],
      "metadata": {
        "id": "MWOGgNFTNdfH"
      }
    },
    {
      "cell_type": "code",
      "source": [],
      "metadata": {
        "colab": {
          "base_uri": "https://localhost:8080/"
        },
        "id": "1lCrmFo-U5lE",
        "outputId": "01b2744c-6892-4a22-89b5-b2217fff4d72"
      },
      "execution_count": 3,
      "outputs": [
        {
          "output_type": "execute_result",
          "data": {
            "text/plain": [
              "()"
            ]
          },
          "metadata": {},
          "execution_count": 3
        }
      ]
    },
    {
      "cell_type": "markdown",
      "source": [],
      "metadata": {
        "id": "zWxz--aRVDqD"
      }
    }
  ]
}